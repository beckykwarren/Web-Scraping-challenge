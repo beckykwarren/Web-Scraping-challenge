{
 "cells": [
  {
   "cell_type": "code",
   "execution_count": 1,
   "metadata": {},
   "outputs": [],
   "source": [
    "from splinter import Browser\n",
    "from bs4 import BeautifulSoup as bs\n",
    "import requests \n",
    "import time\n",
    "import pandas as pd\n"
   ]
  },
  {
   "cell_type": "code",
   "execution_count": 2,
   "metadata": {},
   "outputs": [],
   "source": [
    "def open_browser():\n",
    "    executable_path = {'executable_path': '/usr/local/bin/chromedriver'}\n",
    "    browser = Browser('chrome', **executable_path, headless=False)\n",
    "    return browser"
   ]
  },
  {
   "cell_type": "markdown",
   "metadata": {},
   "source": [
    "## mars.nasa.gov"
   ]
  },
  {
   "cell_type": "code",
   "execution_count": 5,
   "metadata": {},
   "outputs": [
    {
     "name": "stdout",
     "output_type": "stream",
     "text": [
      "NASA's Curiosity Rover Finds an Ancient Oasis on Mars\n",
      "New evidence suggests salty, shallow ponds once dotted a Martian crater — a sign of the planet's drying climate.\n"
     ]
    }
   ],
   "source": [
    "# URL of news page\n",
    "news_url = 'https://mars.nasa.gov/news/'\n",
    "\n",
    "# call function to open browser \n",
    "browser = open_browser()\n",
    "\n",
    "# send browser to news url\n",
    "browser.visit(news_url) \n",
    "time.sleep(1)\n",
    "\n",
    "# retrieve html\n",
    "news_response = browser.html\n",
    "\n",
    "# make bs object, parse with 'lxml'\n",
    "news_soup = bs(news_response, 'lxml')\n",
    "\n",
    "#find article heading and paragraph text\n",
    "mars_news_title = news_soup.find(\"div\", class_=\"content_title\").text\n",
    "mars_news_paragraph_text = news_soup.find(\"div\", class_=\"article_teaser_body\").text\n",
    "\n",
    "# quit browser\n",
    "browser.quit()            \n",
    "\n",
    "# print article heading and paragraph text\n",
    "print(mars_news_title)\n",
    "print(mars_news_paragraph_text)\n"
   ]
  },
  {
   "cell_type": "code",
   "execution_count": null,
   "metadata": {},
   "outputs": [],
   "source": []
  },
  {
   "cell_type": "markdown",
   "metadata": {},
   "source": [
    "## Space Images"
   ]
  },
  {
   "cell_type": "code",
   "execution_count": 6,
   "metadata": {},
   "outputs": [
    {
     "name": "stdout",
     "output_type": "stream",
     "text": [
      "https://www.jpl.nasa.gov/spaceimages/images/largesize/PIA17978_hires.jpg\n"
     ]
    }
   ],
   "source": [
    "# URL of image page \n",
    "image_url = \"https://www.jpl.nasa.gov/spaceimages/?search=&category=Mars\"\n",
    "\n",
    "# call function to open browser \n",
    "browser = open_browser()\n",
    "\n",
    "# send browser to image url\n",
    "browser.visit(image_url) \n",
    "\n",
    "# navigate to image page\n",
    "browser.click_link_by_partial_text('FULL IMAGE')\n",
    "time.sleep(5)\n",
    "browser.click_link_by_partial_text('more info')\n",
    "\n",
    "# retrieve html and make bs object, parse with 'html.parser'\n",
    "image_html = browser.html\n",
    "image_soup = bs(image_html, 'html.parser')\n",
    "\n",
    "# find image URL\n",
    "temp_img_url = image_soup.find('img', class_='main_image')\n",
    "back_half_img_url = temp_img_url.get('src')\n",
    "\n",
    "# create full URL\n",
    "featured_image_url = \"https://www.jpl.nasa.gov\" + back_half_img_url\n",
    "\n",
    "# quit browser\n",
    "browser.quit()         \n",
    "\n",
    "# print URL\n",
    "print(featured_image_url)"
   ]
  },
  {
   "cell_type": "markdown",
   "metadata": {},
   "source": [
    "## WEATHER"
   ]
  },
  {
   "cell_type": "code",
   "execution_count": 7,
   "metadata": {},
   "outputs": [
    {
     "name": "stdout",
     "output_type": "stream",
     "text": [
      "\n",
      "InSight sol 311 (2019-10-11) low -100.8ºC (-149.4ºF) high -26.4ºC (-15.4ºF)\n",
      "winds from the SSW at 4.8 m/s (10.6 mph) gusting to 19.1 m/s (42.6 mph)\n",
      "pressure at 7.20 hPapic.twitter.com/z5WeBicIrF\n",
      "\n"
     ]
    }
   ],
   "source": [
    "# URL of weather page\n",
    "weather_url = \"https://twitter.com/marswxreport?lang=en\"\n",
    "\n",
    "# call function to open browser \n",
    "browser = open_browser()\n",
    "\n",
    "# send browser to image url\n",
    "browser.visit(weather_url) \n",
    "\n",
    "# retrieve html and make bs object, parse with 'html.parser'\n",
    "weather_html = browser.html\n",
    "weather_soup = bs(weather_html, 'html.parser')\n",
    "\n",
    "# find tweet\n",
    "tweet_containers = weather_soup.find_all('div', class_=\"js-tweet-text-container\")\n",
    "\n",
    "\n",
    "# get text\n",
    "mars_weather = tweet_containers[0].text\n",
    "print(mars_weather)\n",
    "\n",
    "# quit browser\n",
    "browser.quit()            "
   ]
  },
  {
   "cell_type": "markdown",
   "metadata": {},
   "source": [
    "## FACTS TABLE"
   ]
  },
  {
   "cell_type": "code",
   "execution_count": 8,
   "metadata": {},
   "outputs": [
    {
     "name": "stdout",
     "output_type": "stream",
     "text": [
      "<table border=\"1\" class=\"dataframe\">\n",
      "  <tbody>\n",
      "    <tr>\n",
      "      <td>Equatorial Diameter:</td>\n",
      "      <td>6,792 km</td>\n",
      "    </tr>\n",
      "    <tr>\n",
      "      <td>Polar Diameter:</td>\n",
      "      <td>6,752 km</td>\n",
      "    </tr>\n",
      "    <tr>\n",
      "      <td>Mass:</td>\n",
      "      <td>6.39 × 10^23 kg (0.11 Earths)</td>\n",
      "    </tr>\n",
      "    <tr>\n",
      "      <td>Moons:</td>\n",
      "      <td>2 (Phobos &amp; Deimos)</td>\n",
      "    </tr>\n",
      "    <tr>\n",
      "      <td>Orbit Distance:</td>\n",
      "      <td>227,943,824 km (1.38 AU)</td>\n",
      "    </tr>\n",
      "    <tr>\n",
      "      <td>Orbit Period:</td>\n",
      "      <td>687 days (1.9 years)</td>\n",
      "    </tr>\n",
      "    <tr>\n",
      "      <td>Surface Temperature:</td>\n",
      "      <td>-87 to -5 °C</td>\n",
      "    </tr>\n",
      "    <tr>\n",
      "      <td>First Record:</td>\n",
      "      <td>2nd millennium BC</td>\n",
      "    </tr>\n",
      "    <tr>\n",
      "      <td>Recorded By:</td>\n",
      "      <td>Egyptian astronomers</td>\n",
      "    </tr>\n",
      "  </tbody>\n",
      "</table>\n"
     ]
    }
   ],
   "source": [
    "# URL of weather page\n",
    "facts_url = \"https://space-facts.com/mars/\"\n",
    "\n",
    "# use pandas to read the html\n",
    "facts_list = pd.read_html(facts_url)    \n",
    "\n",
    "#scrape lists\n",
    "facts_df = facts_list[1]      \n",
    "\n",
    "#send table to html\n",
    "facts_table = facts_df.to_html(header=False, index=False)                    # converts dataframe to html table\n",
    "print(facts_table)        "
   ]
  },
  {
   "cell_type": "markdown",
   "metadata": {},
   "source": [
    "## HEMISPHERE PICTURES"
   ]
  },
  {
   "cell_type": "code",
   "execution_count": 9,
   "metadata": {},
   "outputs": [
    {
     "name": "stdout",
     "output_type": "stream",
     "text": [
      "[{'title': 'Cerberus Hemisphere Enhanced', 'url': 'http://astropedia.astrogeology.usgs.gov/download/Mars/Viking/cerberus_enhanced.tif/full.jpg'}, {'title': 'Schiaparelli Hemisphere Enhanced', 'url': 'http://astropedia.astrogeology.usgs.gov/download/Mars/Viking/schiaparelli_enhanced.tif/full.jpg'}, {'title': 'Syrtis Major Hemisphere Enhanced', 'url': 'http://astropedia.astrogeology.usgs.gov/download/Mars/Viking/syrtis_major_enhanced.tif/full.jpg'}, {'title': 'Valles Marineris Hemisphere Enhanced', 'url': 'http://astropedia.astrogeology.usgs.gov/download/Mars/Viking/valles_marineris_enhanced.tif/full.jpg'}]\n"
     ]
    }
   ],
   "source": [
    "# URL of hemishpere pictures\n",
    "hemi_url = \"https://astrogeology.usgs.gov/search/results?q=hemisphere+enhanced&k1=target&v1=Mars\"\n",
    "\n",
    "# call function to open browser \n",
    "browser = open_browser()\n",
    "\n",
    "# send browser to image url\n",
    "browser.visit(hemi_url) \n",
    "\n",
    "# retrieve html and make bs object, parse with 'html.parser'\n",
    "hemi_html = browser.html   \n",
    "soup = bs(hemi_html, \"html.parser\")\n",
    "\n",
    "# find view names\n",
    "hemisphere_names = soup.find_all('h3')\n",
    "\n",
    "hemisphere_image_urls=[]\n",
    "\n",
    "# cycle through views \n",
    "for i in range(len(hemisphere_names)):\n",
    "    \n",
    "    # find view name\n",
    "    title=hemisphere_names[i].text\n",
    "    \n",
    "    hemi_dict = {}\n",
    "    \n",
    "    # click view link\n",
    "    browser.visit(hemi_url) \n",
    "    browser.click_link_by_partial_text(title)\n",
    "    \n",
    "    # retrieve html and parse with 'html.parser'\n",
    "    hemi_html = browser.html\n",
    "    hemi_soup = bs(hemi_html, 'html.parser')\n",
    "\n",
    "    # find URL\n",
    "    temp_img_url = hemi_soup.find('ul').find('li')\n",
    "\n",
    "    # add name and URL to dictionary\n",
    "    hemi_dict['title'] = title\n",
    "    hemi_dict['img_url'] = temp_img_url.a['href']\n",
    "    \n",
    "    # append dictionary to list\n",
    "    hemisphere_image_urls.append(hemi_dict)\n",
    "    \n",
    "\n",
    "# quit browser\n",
    "browser.quit()   \n",
    "print(hemisphere_image_urls)\n"
   ]
  },
  {
   "cell_type": "code",
   "execution_count": null,
   "metadata": {},
   "outputs": [],
   "source": []
  }
 ],
 "metadata": {
  "kernelspec": {
   "display_name": "Python 3",
   "language": "python",
   "name": "python3"
  },
  "language_info": {
   "codemirror_mode": {
    "name": "ipython",
    "version": 3
   },
   "file_extension": ".py",
   "mimetype": "text/x-python",
   "name": "python",
   "nbconvert_exporter": "python",
   "pygments_lexer": "ipython3",
   "version": "3.6.9"
  },
  "varInspector": {
   "cols": {
    "lenName": 16,
    "lenType": 16,
    "lenVar": 40
   },
   "kernels_config": {
    "python": {
     "delete_cmd_postfix": "",
     "delete_cmd_prefix": "del ",
     "library": "var_list.py",
     "varRefreshCmd": "print(var_dic_list())"
    },
    "r": {
     "delete_cmd_postfix": ") ",
     "delete_cmd_prefix": "rm(",
     "library": "var_list.r",
     "varRefreshCmd": "cat(var_dic_list()) "
    }
   },
   "types_to_exclude": [
    "module",
    "function",
    "builtin_function_or_method",
    "instance",
    "_Feature"
   ],
   "window_display": false
  }
 },
 "nbformat": 4,
 "nbformat_minor": 2
}
